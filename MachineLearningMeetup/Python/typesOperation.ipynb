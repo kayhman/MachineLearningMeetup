{
 "cells": [
  {
   "cell_type": "code",
   "execution_count": null,
   "id": "169e8def",
   "metadata": {},
   "outputs": [],
   "source": [
    "# Basic arithmetic operations are supported on integers and floats\n",
    "a = 1\n",
    "b = 2\n",
    "print(a + b)\n",
    "#> 3\n",
    "print(a - b)\n",
    "#> -1\n",
    "print(a * b)\n",
    "#> 2\n",
    "print(a / b)\n",
    "#> 0.5\n",
    "\n",
    "# Integers and floats can be added together\n",
    "c = 3.5\n",
    "print(a - b + c)\n",
    "#> 2.5\n",
    "\n",
    "# Strings are also well-equipped\n",
    "s = 'python'\n",
    "print(s + s)\n",
    "#> pythonpython\n",
    "print(len(s))\n",
    "#> 6\n",
    "# Strings are lists of characters\n",
    "print(s[:3])\n",
    "#> pyt"
   ]
  }
 ],
 "metadata": {},
 "nbformat": 4,
 "nbformat_minor": 5
}
