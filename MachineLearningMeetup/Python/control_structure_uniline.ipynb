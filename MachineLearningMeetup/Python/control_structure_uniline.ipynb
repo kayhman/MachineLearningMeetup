{
 "cells": [
  {
   "cell_type": "code",
   "execution_count": null,
   "id": "79148e5c",
   "metadata": {},
   "outputs": [],
   "source": [
    "condition = False\n",
    "# The ternary operator is used here\n",
    "# to condense the processing on one line.\n",
    "# Readability is increased\n",
    "var = 12 if condition else 24\n",
    "print(var)\n",
    "# > 24"
   ]
  }
 ],
 "metadata": {},
 "nbformat": 4,
 "nbformat_minor": 5
}
