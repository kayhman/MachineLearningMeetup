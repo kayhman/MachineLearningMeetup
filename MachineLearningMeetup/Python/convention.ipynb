{
 "cells": [
  {
   "cell_type": "code",
   "execution_count": null,
   "id": "7c855112",
   "metadata": {},
   "outputs": [],
   "source": [
    "import numpy as np\n",
    "# Results are displayed\n",
    "# after the symbols \\#>.\n",
    "print(3*4)\n",
    "#> 12\n",
    "\n",
    "# Functions and variables\n",
    "# are named in English.\n",
    "def square(x):\n",
    "    return x*x\n",
    "\n",
    "# A is a matrix\n",
    "A = np.array([[1, 0], [0, 1]])"
   ]
  }
 ],
 "metadata": {},
 "nbformat": 4,
 "nbformat_minor": 5
}
