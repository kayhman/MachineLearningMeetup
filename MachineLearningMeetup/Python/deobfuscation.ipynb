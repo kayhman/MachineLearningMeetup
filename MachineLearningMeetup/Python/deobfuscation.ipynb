{
 "cells": [
  {
   "cell_type": "code",
   "execution_count": null,
   "id": "adc6c929",
   "metadata": {},
   "outputs": [],
   "source": [
    "def mean(xs):\n",
    "    \"\"\"\n",
    "    This function calculates the sum\n",
    "    of the elements in the array xs.\n",
    "    \"\"\"\n",
    "    sum = 0\n",
    "    for x in xs:\n",
    "        sum += x\n",
    "    return sum / len(xs)\n",
    "\n",
    "print(mean([1, 2, 3, 4, 5]))\n",
    "#> 3"
   ]
  }
 ],
 "metadata": {},
 "nbformat": 4,
 "nbformat_minor": 5
}
