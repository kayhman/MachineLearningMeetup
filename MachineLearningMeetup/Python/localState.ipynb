{
 "cells": [
  {
   "cell_type": "code",
   "execution_count": null,
   "id": "69c72d90",
   "metadata": {},
   "outputs": [],
   "source": [
    "from jax import jacfwd\n",
    "\n",
    "def local_state(f, t):\n",
    "    traj_pos = f(t)\n",
    "    traj_speed_f = jacrev(f)\n",
    "    traj_speed = traj_speed_f(t)\n",
    "    traj_acc = jacfwd(traj_speed_f)(t)\n",
    "    return t, traj_pos, traj_speed, traj_acc"
   ]
  }
 ],
 "metadata": {},
 "nbformat": 4,
 "nbformat_minor": 5
}
