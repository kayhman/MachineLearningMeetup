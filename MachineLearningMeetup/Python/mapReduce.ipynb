{
 "cells": [
  {
   "cell_type": "code",
   "execution_count": null,
   "id": "0189b01f",
   "metadata": {},
   "outputs": [],
   "source": [
    "from functools import reduce\n",
    "\n",
    "X = [x - 25 for x in range(0, 51)]\n",
    "X2 = map(lambda x: x**2, X)\n",
    "print(list(X2))\n",
    "#> [625, 576, ...]\n",
    "\n",
    "# Calculation of the famous sum\n",
    "# of numbers from 1 to 100\n",
    "# that Gauss solved when he was young.\n",
    "X = [x for x in range(1, 101)]\n",
    "sum = reduce(lambda x, y: x + y, X)\n",
    "print(sum)\n",
    "#> 5050\n",
    "\n",
    "\n",
    "# Weighted sum case.\n",
    "X = [x for x in range(1, 101)]\n",
    "weights = [0 if x%2 == 0 else 1 for x in range(1, 101)]\n",
    "sum = reduce(lambda x, y: x + y,\n",
    "             map(lambda x: x[0] * x[1], zip(X, weights)))\n",
    "print(sum)\n",
    "#> 2500"
   ]
  }
 ],
 "metadata": {},
 "nbformat": 4,
 "nbformat_minor": 5
}
