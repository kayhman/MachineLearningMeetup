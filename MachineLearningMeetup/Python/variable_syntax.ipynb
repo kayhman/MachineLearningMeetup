{
 "cells": [
  {
   "cell_type": "code",
   "execution_count": null,
   "id": "b5ee0df7",
   "metadata": {},
   "outputs": [],
   "source": [
    "# The name of this variable is not valid\n",
    "3_not_possible = 6\n",
    "#> SyntaxError: invalid decimal literal\n",
    "\n",
    "# These two variables are distinct,\n",
    "# due to the different capitalization (uppercase/lowercase)\n",
    "variable_1 = 1\n",
    "vAriable_1 = 2\n",
    "\n",
    "print(variable_1)\n",
    "# > 1\n",
    "print(vAriable_1)\n",
    "# > 2\n",
    "\n",
    "# The name of this function is also not valid\n",
    "def 3_not_possible_function():\n",
    "    return 3"
   ]
  }
 ],
 "metadata": {},
 "nbformat": 4,
 "nbformat_minor": 5
}
