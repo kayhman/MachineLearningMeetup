{
 "cells": [
  {
   "cell_type": "code",
   "execution_count": null,
   "id": "bb8da2ea",
   "metadata": {},
   "outputs": [],
   "source": [
    "# Building a list of x coordinates.\n",
    "X = [x - 25 for x in range(0, 51)]\n",
    "print(X)\n",
    "#> [-25, -24, ..., 24, 25]\n",
    "\n",
    "# Y contains the absolute values of the elements in X.\n",
    "Y = [x if x > 0 else -x for x in X]\n",
    "print(Y)\n",
    "#> [25, 24, ..., 24, 25]\n",
    "\n",
    "# List comprehensions can also be used for filtering.\n",
    "# Z contains only the non-negative elements of X.\n",
    "Z = [x for x in X if x >= 0]\n",
    "print(len(Z))\n",
    "#> 26\n",
    "print(Z)\n",
    "#> [1, 2, 3, ..., 24, 25]\n",
    "\n",
    "# The same mechanism is available for dictionaries.\n",
    "tmp = {'key1' : 1, 'key2' : 2, 'key3' : 3}\n",
    "dct = {key: val for key, val in tmp.items()}\n",
    "print(dct)\n",
    "#> {'key1': 1, 'key2': 2, 'key3': 3}\n",
    "\n",
    "# Filtering is also possible for dictionaries.\n",
    "dct = {key: val for key, val in tmp.items() if val > 2}\n",
    "print(dct)\n",
    "#> {'key3': 3}"
   ]
  }
 ],
 "metadata": {},
 "nbformat": 4,
 "nbformat_minor": 5
}
