{
 "cells": [
  {
   "cell_type": "code",
   "execution_count": null,
   "id": "0a4a90de",
   "metadata": {},
   "outputs": [],
   "source": [
    "# Definition of the square function\n",
    "square = lambda x: x**2\n",
    "\n",
    "# And usage.\n",
    "print(square(2))\n",
    "#> 4"
   ]
  }
 ],
 "metadata": {},
 "nbformat": 4,
 "nbformat_minor": 5
}
