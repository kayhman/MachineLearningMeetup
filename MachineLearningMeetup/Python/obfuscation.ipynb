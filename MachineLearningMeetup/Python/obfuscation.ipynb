{
 "cells": [
  {
   "cell_type": "code",
   "execution_count": null,
   "id": "94824883",
   "metadata": {},
   "outputs": [],
   "source": [
    "def f(x):\n",
    "    d = 0\n",
    "    for c in x:\n",
    "        d += c\n",
    "    return d / len(x)\n",
    "\n",
    "print(f([1, 2, 3, 4, 5]))\n",
    "#> 3"
   ]
  }
 ],
 "metadata": {},
 "nbformat": 4,
 "nbformat_minor": 5
}
