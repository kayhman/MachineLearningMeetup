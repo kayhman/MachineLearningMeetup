{
 "cells": [
  {
   "cell_type": "code",
   "execution_count": null,
   "id": "ab649ad2",
   "metadata": {},
   "outputs": [],
   "source": [
    "import numpy as np\n",
    "\n",
    "# define the plane with a point and a normal vector\n",
    "A = np.array([3, 0, 0])\n",
    "n = np.array([1, 0, 0])\n",
    "\n",
    "# define two points, one above, the other below the plane\n",
    "Aa = np.array([4, 1, 1])\n",
    "Ab = np.array([2, 1, 0])\n",
    "\n",
    "\n",
    "def above(P, A, n):\n",
    "    sign = (P - A).dot(n)\n",
    "    return True if sign > 0 else False\n",
    "\n",
    "print('Is Aa above:', above(Aa, A, n))"
   ]
  },
  {
   "cell_type": "code",
   "execution_count": null,
   "id": "778eeaef",
   "metadata": {},
   "outputs": [],
   "source": [
    "print('Is Ab above:', above(Ab, A, n))"
   ]
  }
 ],
 "metadata": {},
 "nbformat": 4,
 "nbformat_minor": 5
}
