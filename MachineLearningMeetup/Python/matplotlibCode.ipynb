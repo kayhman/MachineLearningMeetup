{
 "cells": [
  {
   "cell_type": "code",
   "execution_count": null,
   "id": "ad1f0817",
   "metadata": {},
   "outputs": [],
   "source": [
    "# Installation is done with pip: pip install matplotlib\n",
    "# The library is imported as follows\n",
    "import matplotlib.pyplot as plt\n",
    "import random\n",
    "\n",
    "# Plotting a scatter plot is done as follows\n",
    "X = [random.random() - 0.5 for i in range(0, 100)]\n",
    "Y = [random.random() - 0.5 for i in range(0, 100)]\n",
    "plt.scatter(X, Y)\n",
    "plt.show()\n",
    "\n",
    "# Plotting a curve is done as follows\n",
    "X = [i for i in range(-50, 50)]\n",
    "Y = [x**2 for x in X]\n",
    "plt.plot(X, Y)\n",
    "plt.show()"
   ]
  }
 ],
 "metadata": {},
 "nbformat": 4,
 "nbformat_minor": 5
}
