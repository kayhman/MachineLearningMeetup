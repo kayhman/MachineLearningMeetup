{
 "cells": [
  {
   "cell_type": "code",
   "execution_count": null,
   "id": "f38383f2",
   "metadata": {},
   "outputs": [],
   "source": [
    "from sympy import symbols, expand, diff\n",
    "\n",
    "x, a, b, c = symbols('x a b c')\n",
    "\n",
    "p = a*x**2 + b * x + c\n",
    "print(p)\n",
    "#> a*x**2 + b*x + c\n",
    "\n",
    "# Sympy supports differentiation.\n",
    "# Here with respect to x.\n",
    "print(diff(p, x))\n",
    "#> 2*a*x + b\n",
    "\n",
    "# Differentiation with respect to a.\n",
    "print(diff(p, a))\n",
    "#> x**2\n",
    "\n",
    "# Sympy can also expand expressions.\n",
    "expand(p * p)\n",
    "#> a**2*x**4 + 2*a*b*x**3 + 2*a*c*x**2 + b**2*x**2 + 2*b*c*x + c**2"
   ]
  }
 ],
 "metadata": {},
 "nbformat": 4,
 "nbformat_minor": 5
}
