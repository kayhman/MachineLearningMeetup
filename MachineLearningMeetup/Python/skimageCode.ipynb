{
 "cells": [
  {
   "cell_type": "code",
   "execution_count": null,
   "id": "5639074b",
   "metadata": {},
   "outputs": [],
   "source": [
    "from skimage import data, io\n",
    "import numpy as np\n",
    "\n",
    "# Retrieving an image from the Skimage library.\n",
    "image = data.brick()\n",
    "\n",
    "# Images are loaded as NumPy arrays, which is convenient for manipulation.\n",
    "print(type(image))\n",
    "#> <class 'numpy.ndarray'>\n",
    "\n",
    "# Saving the image.\n",
    "io.imsave('test.png', image)"
   ]
  }
 ],
 "metadata": {},
 "nbformat": 4,
 "nbformat_minor": 5
}
