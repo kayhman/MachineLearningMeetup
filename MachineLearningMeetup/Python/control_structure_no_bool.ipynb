{
 "cells": [
  {
   "cell_type": "code",
   "execution_count": null,
   "id": "8258f3c1",
   "metadata": {},
   "outputs": [],
   "source": [
    "import random\n",
    "\n",
    "# The condition is an empty list here.\n",
    "# It's considered false\n",
    "condition = []\n",
    "\n",
    "if not condition:\n",
    "    print(\"the condition is true\")\n",
    "else:\n",
    "    print(\"the condition is not true\")\n",
    "#> the condition is true\n",
    "\n",
    "# Here, the condition contains one element\n",
    "# It's considered true\n",
    "condition = {1}\n",
    "\n",
    "if not condition:\n",
    "    print(\"the condition is true\")\n",
    "else:\n",
    "    print(\"the condition is not true\")\n",
    "#> the condition is not true"
   ]
  }
 ],
 "metadata": {},
 "nbformat": 4,
 "nbformat_minor": 5
}
