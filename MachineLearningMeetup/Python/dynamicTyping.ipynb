{
 "cells": [
  {
   "cell_type": "code",
   "execution_count": null,
   "id": "b2be77c5",
   "metadata": {},
   "outputs": [],
   "source": [
    "# This function performs an operation that is impossible between an integer\n",
    "# and a string\n",
    "def this_codes_fails():\n",
    "    a = 12\n",
    "    b = 'rabbit'\n",
    "    return a + b\n",
    "\n",
    "# the type of a variable can change dynamically during the program\n",
    "var1 = 12\n",
    "print(type(var1))\n",
    "#> <class 'int'>\n",
    "var1 = 'rabbit'\n",
    "print(type(var1))\n",
    "#> <class 'str'>\n",
    "\n",
    "print('everything is fine so far')\n",
    "#> everything is fine so far\n",
    "# The interpreter will fail here by raising an exception\n",
    "print(this_codes_fails())\n",
    "#> TypeError: unsupported operand type(s) for +: 'int' and 'str'"
   ]
  }
 ],
 "metadata": {},
 "nbformat": 4,
 "nbformat_minor": 5
}
