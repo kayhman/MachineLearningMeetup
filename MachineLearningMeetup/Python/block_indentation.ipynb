{
 "cells": [
  {
   "cell_type": "code",
   "execution_count": null,
   "id": "2865c916",
   "metadata": {},
   "outputs": [],
   "source": [
    "# This line won't be understood \n",
    "# because it starts with a space.\n",
    "# Indentation is incorrect\n",
    "variable_2 = 2\n",
    "#> IndentationError: unexpected indent\n",
    "\n",
    "# This loop calculates the sum of numbers from 1 to 100\n",
    "# using brute force, unlike what Gauss \n",
    "# did when he was a young student\n",
    "sum = 0\n",
    "for i in range(1, 101):\n",
    "    # this block, identified by the 4 character indentation\n",
    "    # is executed as many times as the loop dictates\n",
    "    sum += i\n",
    "\n",
    "print(sum)\n",
    "# > 5050\n",
    "\n",
    "# A function's body is always defined\n",
    "# within an indented block\n",
    "def gauss_sum():\n",
    "    sum = 0\n",
    "    for i in range(1, 101):\n",
    "        # this block, identified by the 4 character indentation\n",
    "        # is executed as many times as the loop dictates\n",
    "        sum += i\n",
    "    return sum\n",
    "# the function block ends here\n",
    "\n",
    "print(gauss_sum())\n",
    "# > 5050"
   ]
  }
 ],
 "metadata": {},
 "nbformat": 4,
 "nbformat_minor": 5
}
