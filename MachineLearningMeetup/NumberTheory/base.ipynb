{
 "cells": [
  {
   "cell_type": "code",
   "execution_count": null,
   "id": "d35d10e0",
   "metadata": {},
   "outputs": [],
   "source": [
    "# Return the list of digits composing an integer.\n",
    "# E.g.: digits(123) -> [3, 2, 1]\n",
    "def digits(n):\n",
    "    return [int(c) for c in reversed(str(n))]\n",
    "\n",
    "# from\\_base converts an integer n encoded in base b\n",
    "# to base 10.\n",
    "def from_base(n, b):\n",
    "    value = 0\n",
    "    for (idx, digit) in enumerate(digits(n)):\n",
    "        # idx: the position of the digit\n",
    "        # digit: the digit itself\n",
    "        value += digit * b**idx\n",
    "    return value\n",
    "\n",
    "# Compute the value in base 8 of 12.\n",
    "from_base(12, 8)"
   ]
  },
  {
   "cell_type": "code",
   "execution_count": null,
   "id": "2d758060",
   "metadata": {},
   "outputs": [],
   "source": [
    "# Compute the value in base 8 of 1234.\n",
    "from_base(1234, 8)"
   ]
  },
  {
   "cell_type": "code",
   "execution_count": null,
   "id": "78e25b04",
   "metadata": {},
   "outputs": [],
   "source": [
    "# to\\_base converts an integer n encoded in base 10\n",
    "# to base b.\n",
    "def to_base(n, b):\n",
    "    digits = [] # will contain the list of digits, in reverse order.\n",
    "    while n > b:\n",
    "        digit = n % b\n",
    "        n = n // b\n",
    "        digits.append(digit)\n",
    "    digits.append(n)\n",
    "    value = 0\n",
    "    # We reverse and iterate over the list of digits.\n",
    "    for digit in reversed(digits):\n",
    "        value = 10 * value + digit\n",
    "    return value\n",
    "\n",
    "\n",
    "# Convert 10 in base 10 to base 8.\n",
    "to_base(10, 8)"
   ]
  },
  {
   "cell_type": "code",
   "execution_count": null,
   "id": "246b1b41",
   "metadata": {},
   "outputs": [],
   "source": [
    "# Let's verify that the combination of from\\_base and to\\_base is the identity.\n",
    "identity = lambda n, b: from_base(to_base(n, b), b)\n",
    "identity(12, 8)"
   ]
  },
  {
   "cell_type": "code",
   "execution_count": null,
   "id": "13aa425e",
   "metadata": {},
   "outputs": [],
   "source": [
    "# Same verification, but with the operations in reverse order.\n",
    "# We don't have a choice of base, as n is necessarily encoded in base 10.\n",
    "identity = lambda n: to_base(from_base(n, 10), 10)\n",
    "identity(12)"
   ]
  }
 ],
 "metadata": {},
 "nbformat": 4,
 "nbformat_minor": 5
}
