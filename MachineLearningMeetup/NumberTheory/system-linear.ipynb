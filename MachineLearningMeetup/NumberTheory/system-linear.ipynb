{
 "cells": [
  {
   "cell_type": "code",
   "execution_count": null,
   "id": "38083d7f",
   "metadata": {},
   "outputs": [],
   "source": [
    "# The variables $a, b, c$ and $p$ represent respectively\n",
    "# the age of the 3 children and the father.\n",
    "\n",
    "# Each of the following functions represents\n",
    "# the constraints of the problem.\n",
    "l1 = lambda a,b,c,p: 2 * a + b + c - p\n",
    "l2 = lambda a,b,c,p: 1.5 * b - c\n",
    "l3 = lambda a,b,c,p: 3 * c - p - 2\n",
    "l4 = lambda a,b,c,p: p - 43\n",
    "\n",
    "# Using the definition of the lines $l_i$ of the system,\n",
    "# which must be equal to 0,\n",
    "# it is possible to compute $a, b, c$ and $p$.\n",
    "calc_a = lambda a,b,c,p: -1/2 * l1(0,b,c,p)\n",
    "calc_b = lambda a,b,c,p: -1/1.5 * l2(a,0,c,p)\n",
    "calc_c = lambda a,b,c,p: -1/3 * l3(a,b,0,p)\n",
    "calc_p = lambda a,b,c,p: -l4(a,b,c,0)\n",
    "\n",
    "# The solution is computed iteratively.\n",
    "def solution(a,b,c,p, n):\n",
    "    for i in range(0,n):\n",
    "        a = calc_a(a,b,c,p)\n",
    "        b = calc_b(a,b,c,p)\n",
    "        c = calc_c(a,b,c,p)\n",
    "        p = calc_p(a,b,c,p)\n",
    "    return a,b,c,p\n",
    "\n",
    "\n",
    "print(solution(8,8,8,35, 1))"
   ]
  },
  {
   "cell_type": "code",
   "execution_count": null,
   "id": "1d4f3b7b",
   "metadata": {},
   "outputs": [],
   "source": [
    "print(solution(8,8,8,35, 2))"
   ]
  },
  {
   "cell_type": "code",
   "execution_count": null,
   "id": "5c8d3c9f",
   "metadata": {},
   "outputs": [],
   "source": [
    "print(solution(8,8,8,35, 3))"
   ]
  },
  {
   "cell_type": "code",
   "execution_count": null,
   "id": "dc57170a",
   "metadata": {},
   "outputs": [],
   "source": [
    "print(solution(8,8,8,35, 4))"
   ]
  },
  {
   "cell_type": "code",
   "execution_count": null,
   "id": "a90e4320",
   "metadata": {},
   "outputs": [],
   "source": [
    "a, b, c, p = solution(8,8,8,35, 4)\n",
    "# It is possible to verify the respect of the system constraints\n",
    "# using the functions $l_i$, that should yield a 0 result.\n",
    "print(l1(a, b, c, p))\n",
    "# > 0.0\n",
    "print(l2(a, b, c, p))\n",
    "# > 0.0\n",
    "print(l3(a, b, c, p))\n",
    "# > 0.0\n",
    "print(l4(a, b, c, p))\n",
    "# > 0"
   ]
  }
 ],
 "metadata": {},
 "nbformat": 4,
 "nbformat_minor": 5
}
