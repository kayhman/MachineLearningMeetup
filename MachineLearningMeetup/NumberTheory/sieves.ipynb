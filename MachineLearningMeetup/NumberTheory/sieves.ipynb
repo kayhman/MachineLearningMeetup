{
 "cells": [
  {
   "cell_type": "code",
   "execution_count": null,
   "id": "21d7eda8",
   "metadata": {},
   "outputs": [],
   "source": [
    "# This function returns true if a is a multiple of b.\n",
    "# That is, if a is different from b,\n",
    "# and if the remainder of the division of a by b is 0.\n",
    "def is_multiple(a, b):\n",
    "  return a != b and a % b == 0\n",
    "\n",
    "\n",
    "is_multiple(12, 3)"
   ]
  },
  {
   "cell_type": "code",
   "execution_count": null,
   "id": "196aaf03",
   "metadata": {},
   "outputs": [],
   "source": [
    "is_multiple(13, 3)"
   ]
  },
  {
   "cell_type": "code",
   "execution_count": null,
   "id": "0aab230c",
   "metadata": {},
   "outputs": [],
   "source": [
    "# This function sifts through the first n integers using the Eratosthenes method.\n",
    "# It only keeps those that are not multiples of the preceding integers.\n",
    "def sieves(n):\n",
    "  # Build an array of integers from 2 to n.\n",
    "  primes = list(range(2, n + 1))\n",
    "  idx = 0\n",
    "  while idx < len(primes):\n",
    "    p = primes[idx]\n",
    "    primes = list(filter(lambda x: not is_multiple(x, p), primes))\n",
    "    idx = idx + 1\n",
    "  return primes\n",
    "\n",
    "\n",
    "print(sieves(19))"
   ]
  }
 ],
 "metadata": {},
 "nbformat": 4,
 "nbformat_minor": 5
}
