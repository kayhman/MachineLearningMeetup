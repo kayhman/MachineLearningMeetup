{
 "cells": [
  {
   "cell_type": "code",
   "execution_count": null,
   "id": "9e498e6d",
   "metadata": {},
   "outputs": [],
   "source": [
    "from math import log\n",
    "from sieves import sieves\n",
    "import matplotlib.pyplot as plt\n",
    "\n",
    "# We create a list of integers from 10 to 1,000,000, every 10.\n",
    "max = 10000\n",
    "ns = [n for n in range(10, max, 10)]"
   ]
  },
  {
   "cell_type": "code",
   "execution_count": null,
   "id": "0bd3622b",
   "metadata": {},
   "outputs": [],
   "source": [
    "# We calculate the ratio $\\frac{\\pi(n)}{n}$ for each of these integers.\n",
    "primes = sieves(max)\n",
    "pi = [len([x for x in primes if x <= n]) for n in ns]\n",
    "freq = [pi[i] / n for (i, n) in enumerate(ns)]\n",
    "chck = [freq[i] * log(i+1)  for (i, n) in enumerate(ns)]\n",
    "\n",
    "# And we plot the curve of this ratio as a function of n.\n",
    "plt.plot(ns, chck)\n",
    "plt.show()"
   ]
  }
 ],
 "metadata": {},
 "nbformat": 4,
 "nbformat_minor": 5
}
