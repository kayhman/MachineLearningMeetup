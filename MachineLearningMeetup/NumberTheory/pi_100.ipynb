{
 "cells": [
  {
   "cell_type": "code",
   "execution_count": null,
   "id": "d2c696e6",
   "metadata": {},
   "outputs": [],
   "source": [
    "from sieves import sieves\n",
    "# prime numbers between 0 and 100\n",
    "print(len(sieves(100)))"
   ]
  },
  {
   "cell_type": "code",
   "execution_count": null,
   "id": "9a6ae354",
   "metadata": {},
   "outputs": [],
   "source": [
    "# prime numbers between 0 and 500\n",
    "print(len(sieves(500)))"
   ]
  },
  {
   "cell_type": "code",
   "execution_count": null,
   "id": "c32ca66c",
   "metadata": {},
   "outputs": [],
   "source": [
    "# prime numbers between 0 and 1000\n",
    "print(len(sieves(1000)))"
   ]
  },
  {
   "cell_type": "code",
   "execution_count": null,
   "id": "1c40b4f9",
   "metadata": {},
   "outputs": [],
   "source": [
    "# prime numbers between 0 and 2000\n",
    "print(len(sieves(2000)))"
   ]
  },
  {
   "cell_type": "code",
   "execution_count": null,
   "id": "923e287f",
   "metadata": {},
   "outputs": [],
   "source": [
    "# prime numbers between 0 and 4000\n",
    "print(len(sieves(4000)))"
   ]
  },
  {
   "cell_type": "code",
   "execution_count": null,
   "id": "3c11cebc",
   "metadata": {},
   "outputs": [],
   "source": [
    "# prime numbers between 0 and 6000\n",
    "print(len(sieves(6000)))"
   ]
  }
 ],
 "metadata": {},
 "nbformat": 4,
 "nbformat_minor": 5
}
