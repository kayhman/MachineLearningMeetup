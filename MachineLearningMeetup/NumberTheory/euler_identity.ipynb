{
 "cells": [
  {
   "cell_type": "code",
   "execution_count": null,
   "id": "4fc99bda",
   "metadata": {},
   "outputs": [],
   "source": [
    "import matplotlib.pyplot as plt\n",
    "plt.style.use('grayscale')\n",
    "from math import pi, e\n",
    "\n",
    "# Verification of Euler's formula.\n",
    "print(e**(1j * pi).real)\n",
    "#> 1.0\n",
    "\n",
    "\n",
    "# Intuition about the meaning of the formula\n",
    "# and underlying aesthetics.\n",
    "def plot_exponential_approximation(n):\n",
    "    p_0 = 1 + 0j\n",
    "    r = 1 + pi/n * 1j\n",
    "    p_im1 = p_0\n",
    "    p_i = p_0\n",
    "    for i in range(0, n):\n",
    "        print(p_i)\n",
    "        plt.plot([0, p_i.real], [0, p_i.imag])\n",
    "        p_i = p_i * r\n",
    "        plt.plot([p_im1.real, p_i.real], [p_im1.imag, p_i.imag])\n",
    "        p_im1 = p_i\n",
    "    plt.plot([0, p_i.real], [0, p_i.imag])\n",
    "    plt.axis('equal')\n",
    "    plt.show()\n",
    "\n",
    "plot_exponential_approximation(8)"
   ]
  }
 ],
 "metadata": {},
 "nbformat": 4,
 "nbformat_minor": 5
}
