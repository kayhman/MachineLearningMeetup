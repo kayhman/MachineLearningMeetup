{
 "cells": [
  {
   "cell_type": "code",
   "execution_count": null,
   "id": "fb6ad3ed",
   "metadata": {},
   "outputs": [],
   "source": [
    "import numpy as np\n",
    "import matplotlib.pyplot as plt\n",
    "\n",
    "from lagrangian_polynomial import LagrangianPolynome\n",
    "\n",
    "Ts = [0.0, 1.0, 2.0, 3.0]\n",
    "Xs = [0.0, 1.0, 1.0, 0.0]\n",
    "\n",
    "poly = LagrangianPolynome(Ts, Xs)\n",
    "\n",
    "# Check key values\n",
    "print(poly.eval(0.0))\n",
    "print(poly.eval(1.0))\n",
    "print(poly.eval(2.0))\n",
    "print(poly.eval(3.0))\n",
    "\n",
    "times = np.linspace(0.0, 3.0, 40)\n",
    "traj = [poly.eval(t) for t in times]\n",
    "plt.plot(Ts, Xs, 'o')\n",
    "plt.plot(times, traj)\n",
    "plt.show()"
   ]
  }
 ],
 "metadata": {},
 "nbformat": 4,
 "nbformat_minor": 5
}
