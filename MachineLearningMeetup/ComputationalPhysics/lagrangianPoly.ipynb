{
 "cells": [
  {
   "cell_type": "code",
   "execution_count": null,
   "id": "9c633b1a",
   "metadata": {},
   "outputs": [],
   "source": [
    "from functools import reduce\n",
    "import numpy as np\n",
    "import jax.numpy as jnp\n",
    "\n",
    "\n",
    "class LagrangianPolynome:\n",
    "    def __init__(self, Ts, Xs):\n",
    "        self.Ts = Ts\n",
    "        self.Xs = Xs\n",
    "\n",
    "    def numerator(self, idx, t):\n",
    "        coef = reduce(lambda a, b: a * b,\n",
    "                      [(t - t_i) for t_idx, t_i in enumerate(self.Ts) if t_idx != idx], 1.0)\n",
    "        return coef * self.Xs[idx]\n",
    "\n",
    "    def denominator(self, idx):\n",
    "        return np.multiply.reduce([(self.Ts[idx] - t_i)\n",
    "                                   for t_idx, t_i\n",
    "                                   in enumerate(self.Ts) if t_idx != idx])\n",
    "\n",
    "    def eval(self, t):\n",
    "        val = 0.0\n",
    "        for idx in range(len(self.Ts)):\n",
    "            val += self.numerator(idx, t) / self.denominator(idx)\n",
    "        return val"
   ]
  }
 ],
 "metadata": {},
 "nbformat": 4,
 "nbformat_minor": 5
}
