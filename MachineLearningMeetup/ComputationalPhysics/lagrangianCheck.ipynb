{
 "cells": [
  {
   "cell_type": "code",
   "execution_count": null,
   "id": "12940dc0",
   "metadata": {},
   "outputs": [],
   "source": [
    "import numpy as np\n",
    "from jax import jacfwd, jacrev\n",
    "\n",
    "from lagrangian_polynomial import LagrangianPolynome\n",
    "\n",
    "\n",
    "def candidate_trajectory(Ts, Xs, t):\n",
    "    poly = LagrangianPolynome(Ts, Xs)\n",
    "    return poly.eval(t)\n",
    "\n",
    "\n",
    "def local_state(f, t):\n",
    "    traj_pos = f(t)\n",
    "    traj_speed_f = jacrev(f)\n",
    "    traj_speed = traj_speed_f(t)\n",
    "    traj_acc = jacfwd(traj_speed_f)(t)\n",
    "    return t, traj_pos, traj_speed, traj_acc\n",
    "\n",
    "\n",
    "Ts = [0.0, 1.0, 2.0, 3.0]\n",
    "Xs = [0.0, 1.0, 1.0, 0.0]\n",
    "\n",
    "print(np.array(local_state(lambda t: candidate_trajectory(Ts, Xs, t), 1.5)))\n",
    "# [ 1.5    1.125  0.    -1.   ]"
   ]
  }
 ],
 "metadata": {},
 "nbformat": 4,
 "nbformat_minor": 5
}
