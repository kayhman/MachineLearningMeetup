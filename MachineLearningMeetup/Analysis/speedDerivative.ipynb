{
 "cells": [
  {
   "cell_type": "code",
   "execution_count": null,
   "id": "6dc1d759",
   "metadata": {},
   "outputs": [],
   "source": [
    "# Calculation of position at time t\n",
    "# if displacement occurs at constant speed V.\n",
    "def position(V, t):\n",
    "    return V * t\n",
    "\n",
    "# Generic function to calculate the derivative\n",
    "# of a function f at a point x\n",
    "# by taking h sufficiently small.\n",
    "def derivative(f, x, h=1e-3):\n",
    "    return (f(x+h) - f(x)) / h\n",
    "\n",
    "# Calculation of instantaneous velocity at time t = 15,\n",
    "# for a constant speed of 5.\n",
    "print(derivative(lambda x : position(5, x), 15))\n",
    "# > 4.9999999999954525"
   ]
  }
 ],
 "metadata": {},
 "nbformat": 4,
 "nbformat_minor": 5
}
