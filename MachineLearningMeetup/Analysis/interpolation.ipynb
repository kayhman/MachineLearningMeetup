{
 "cells": [
  {
   "cell_type": "code",
   "execution_count": null,
   "id": "96fa8a46",
   "metadata": {},
   "outputs": [],
   "source": [
    "from collections import namedtuple\n",
    "\n",
    "Point = namedtuple('Point', ['x', 'y'])\n",
    "\n",
    "A = Point(1, 1)\n",
    "B = Point(2, 3)\n",
    "C = Point(3, -1)\n",
    "\n",
    "# A(1) = 1 ; A(2) = 0 ; A(3) = 0\n",
    "P_A = lambda x: (x - B.x) * (x - C.x) / ((A.x - B.x) * (A.x - C.x))\n",
    "\n",
    "# B(1) = 0 ; B(2) = 1 ; B(3) = 0\n",
    "P_B = lambda x: (x - A.x) * (x - C.x) / ((B.x - A.x) * (B.x - C.x))\n",
    "\n",
    "# C(1) = 0 ; C(2) = 0 ; C(3) = 1\n",
    "P_C = lambda x: (x - A.x) * (x - B.x) / ((C.x - A.x) * (C.x - B.x))\n",
    "\n",
    "# Polynôme de Lagrange\n",
    "P_l = lambda x: P_A(x) * A.y + P_B(x) * B.y + P_C(x) * C.y\n",
    "\n",
    "\n",
    "# Vérifions que les ordonnées correspondent bien avec celles attendues\n",
    "print(f\"P_l(A.x) : {P_l(A.x)}\")\n",
    "print(f\"P_l(B.x) : {P_l(B.x)}\")\n",
    "print(f\"P_l(C.x) : {P_l(C.x)}\")\n",
    "# $P_l(A.x) : 1.0$\n",
    "# $P_l(B.x) : 3.0$\n",
    "# $P_l(C.x) : -1.0$"
   ]
  }
 ],
 "metadata": {},
 "nbformat": 4,
 "nbformat_minor": 5
}
