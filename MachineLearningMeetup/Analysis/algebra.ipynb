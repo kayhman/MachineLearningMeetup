{
 "cells": [
  {
   "cell_type": "code",
   "execution_count": null,
   "id": "8493f4d0",
   "metadata": {},
   "outputs": [],
   "source": [
    "from sympy import symbols, expand, factor\n",
    "\n",
    "# We create three variables: t, x, and y.\n",
    "t, x, y = symbols('t x y')\n",
    "\n",
    "# Here, we apply algebraic rules to simplify the expression $t^2 + t * (t + t^3)$.\n",
    "print(expand(t**2 + t * (t + t**3)))\n",
    "\n",
    "# > t**4 + 2*t**2\n",
    "\n",
    "print(factor(t**2 + t * (t + t**3)))\n",
    "\n",
    "# > t**2*(t**2 + 2)"
   ]
  }
 ],
 "metadata": {},
 "nbformat": 4,
 "nbformat_minor": 5
}
