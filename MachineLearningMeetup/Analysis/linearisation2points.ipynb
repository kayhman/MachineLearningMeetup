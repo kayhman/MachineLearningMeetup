{
 "cells": [
  {
   "cell_type": "code",
   "execution_count": null,
   "id": "2aeda888",
   "metadata": {},
   "outputs": [],
   "source": [
    "import numpy as np\n",
    "import matplotlib.pyplot as plt\n",
    "\n",
    "f = lambda x: x**2 # x² is the function to linearize.\n",
    "x_1 = -1.0\n",
    "x_2 = 1.0\n",
    "\n",
    "x_3 = 1.0\n",
    "x_4 = 2.0\n",
    "\n",
    "xs = np.linspace(-3, 3, 100)\n",
    "ys = [f(x) for x in xs]\n",
    "plt.plot(xs, ys,\n",
    "         [x_1], f(x_1), 'o',\n",
    "         [x_2], f(x_2), 'o',\n",
    "         [x_1, x_2], [f(x_1), f(x_2)], '-',\n",
    "         [x_3], f(x_3), 'o',\n",
    "         [x_4], f(x_4), 'o',\n",
    "         [x_3, x_4], [f(x_3), f(x_4)], '-',\n",
    ")\n",
    "plt.show()"
   ]
  }
 ],
 "metadata": {},
 "nbformat": 4,
 "nbformat_minor": 5
}
