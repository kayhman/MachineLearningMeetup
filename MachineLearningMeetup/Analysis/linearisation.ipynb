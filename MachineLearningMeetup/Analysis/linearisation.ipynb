{
 "cells": [
  {
   "cell_type": "code",
   "execution_count": null,
   "id": "7bd182a1",
   "metadata": {},
   "outputs": [],
   "source": [
    "import numpy as np\n",
    "import matplotlib.pyplot as plt\n",
    "\n",
    "# This function creates a linearized\n",
    "# function for f at the point $x_0$.\n",
    "def linearise(f, f_p, x_0):\n",
    "    f_lin = lambda x: f(x_0) + f_p(x_0) * (x - x_0)\n",
    "    return f_lin\n",
    "\n",
    "\n",
    "f = lambda x: x**2 # x² is the function to be linearized\n",
    "f_p = lambda x: 2*x # 2x is the derivative of f(x)\n",
    "x_0 = 1.0 # $x_0$ is the point of linearization\n",
    "f_lin = lambda x: linearise(f, f_p, x_0)(x) # f\\_lin(x) is the linearization of f(x) at the point $x_0$\n",
    "\n",
    "xs = np.linspace(-3, 3, 100)\n",
    "ys = [f(x) for x in xs]\n",
    "xs2 = np.linspace(0, 3, 100)\n",
    "f_lin_x_1 = [f_lin(x) for x in xs2]\n",
    "plt.plot(xs, ys, xs2, f_lin_x_1, '-.',\n",
    "         [x_0], f(x_0), 'o')\n",
    "plt.show()"
   ]
  }
 ],
 "metadata": {},
 "nbformat": 4,
 "nbformat_minor": 5
}
