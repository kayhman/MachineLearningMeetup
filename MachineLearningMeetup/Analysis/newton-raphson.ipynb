{
 "cells": [
  {
   "cell_type": "code",
   "execution_count": null,
   "id": "ae4cdb46",
   "metadata": {},
   "outputs": [],
   "source": [
    "# Numerically calculate the derivative of the function f at point x\n",
    "# $f'(x) = \\lim\\limits_{d\\rightarrow 0} \\frac{f(x+d) - f(x)}{d}$.\n",
    "def deriv(f, x, d=1e-3):\n",
    "  return (f(x + d) - f(x)) / d\n",
    "\n",
    "\n",
    "# Search for a solution of f(x) = 0 in the vicinity of $x_0$.\n",
    "# $n$ is the number of iterations.\n",
    "def raphson(f, x0, n=5):\n",
    "  xi = x0  # xi contains the successive approximations.\n",
    "  for i in range(0, n):\n",
    "    d = -f(xi) / deriv(f, xi)\n",
    "    xi = xi + d\n",
    "  return xi\n",
    "\n",
    "\n",
    "f = lambda x: x**3 - 2 * x - 5\n",
    "r = raphson(f, 2)\n",
    "print(r)"
   ]
  },
  {
   "cell_type": "code",
   "execution_count": null,
   "id": "64f918d7",
   "metadata": {},
   "outputs": [],
   "source": [
    "print(f(r))"
   ]
  }
 ],
 "metadata": {},
 "nbformat": 4,
 "nbformat_minor": 5
}
