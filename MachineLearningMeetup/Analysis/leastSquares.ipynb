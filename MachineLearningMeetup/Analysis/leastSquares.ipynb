{
 "cells": [
  {
   "cell_type": "code",
   "execution_count": null,
   "id": "212d79ce",
   "metadata": {},
   "outputs": [],
   "source": [
    "import numpy as np\n",
    "from numpy.linalg import inv\n",
    "import matplotlib.pyplot as plt\n",
    "\n",
    "# Least Squares method to calculate parameters.\n",
    "def fit(X, Y):\n",
    "    return inv(X.T.dot(X)).dot(X.T).dot(Y)\n",
    "\n",
    "# The relation we are looking for here is of the type $ y = a * x $, with $a \\approx 1.0$.\n",
    "X = np.array([[3.1], [1.01], [1.98], [2.02], [2.93], [3.07]])\n",
    "Y = np.array([2.9, 0.9, 2.3, 2.05, 2.8, 3.12])\n",
    "\n",
    "linear_params = fit(X, Y)\n",
    "print(linear_params)\n",
    "# > [0.99278671]\n",
    "\n",
    "# The relation we are looking for here is of the type $ y = a * x + b $, with $a \\approx 1.0$ and $b \\approx 0.0$.\n",
    "X = np.array([[1, 3.1], [1, 1.01], [1, 1.98], [1, 2.02], [1, 2.93], [1, 3.07]])\n",
    "affine_params = fit(X, Y)\n",
    "print(affine_params)\n",
    "# > [0.10908029\n",
    "#    0.95078088]\n",
    "\n",
    "# Plotting the curve.\n",
    "plt.scatter([x[1] for x in X], Y)\n",
    "plt.plot(np.linspace(1, 3, 10),\n",
    "         np.linspace(1, 3, 10) * linear_params[0],\n",
    "         ':', label='linear')\n",
    "plt.plot(np.linspace(1, 3, 10),\n",
    "         np.linspace(1, 3, 10) * affine_params[1] + affine_params[0],\n",
    "         '-.', label='affine')\n",
    "plt.legend()\n",
    "plt.show()"
   ]
  }
 ],
 "metadata": {},
 "nbformat": 4,
 "nbformat_minor": 5
}
