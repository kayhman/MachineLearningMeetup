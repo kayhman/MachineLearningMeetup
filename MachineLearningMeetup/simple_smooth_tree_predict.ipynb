{
 "cells": [
  {
   "cell_type": "code",
   "execution_count": null,
   "id": "2d3d976a",
   "metadata": {},
   "outputs": [],
   "source": [
    "import jax.numpy as jnp\n",
    "\n",
    "from smooth_binary_node import SmoothBinaryNode\n",
    "\n",
    "node = SmoothBinaryNode()\n",
    "\n",
    "# feature 1 will be used s criteria\n",
    "# The threshold is 50\n",
    "params = {'weights': jnp.array([0, 10, 0]),\n",
    "          'leaves': jnp.array([-1, 1]),\n",
    "          'bias': 50}\n",
    "\n",
    "features = jnp.array([[1, 80, 7]])\n",
    "pred = node.predict(params, features)\n",
    "# 80 is greater than 50\n",
    "# we expect a 1\n",
    "print('Prediction', pred)\n",
    "\n",
    "\n",
    "features = jnp.array([[1, 20, 7]])\n",
    "pred = node.predict(params, features)\n",
    "# 20 is lesser than 50\n",
    "# we expect a -1\n",
    "print('Prediction', pred)"
   ]
  }
 ],
 "metadata": {},
 "nbformat": 4,
 "nbformat_minor": 5
}
