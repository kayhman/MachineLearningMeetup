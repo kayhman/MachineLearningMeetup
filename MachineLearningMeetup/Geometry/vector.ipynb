{
 "cells": [
  {
   "cell_type": "code",
   "execution_count": null,
   "id": "719dbb84",
   "metadata": {},
   "outputs": [],
   "source": [
    "import numpy as np\n",
    "\n",
    "# We create here two vectors of dimension 3, A and B.\n",
    "# These are also points.\n",
    "A  = np.array([1, 0, 0])\n",
    "B  = np.array([0, 1, 0])\n",
    "print(A, B)\n",
    "#> [1 0 0] [0 1 0]\n",
    "\n",
    "# It is possible to add them together, in order to make S.\n",
    "S = A + B\n",
    "print(S)\n",
    "#> [1 1 0]\n",
    "\n",
    "# Multiplying vectors together is not possible,\n",
    "# however, it is possible to multiply them by a scalar:\n",
    "M = 0.5 * A\n",
    "print(M)\n",
    "#> [0.5 0 0]\n",
    "\n",
    "# Multiplying two vectors together does not produce a vector,\n",
    "# but rather a scalar. This is called the dot product.\n",
    "s = A.dot(B)\n",
    "print(s)\n",
    "#> 0\n",
    "\n",
    "# The calculation of the vector $\\mathbf{v}$ between\n",
    "# $A$ and $B$ is done as follows:\n",
    "v = B - A\n",
    "print(v)\n",
    "#> [-1 1 0]"
   ]
  }
 ],
 "metadata": {},
 "nbformat": 4,
 "nbformat_minor": 5
}
