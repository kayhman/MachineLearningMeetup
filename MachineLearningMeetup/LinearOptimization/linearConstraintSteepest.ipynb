{
 "cells": [
  {
   "cell_type": "code",
   "execution_count": null,
   "id": "99b64b61",
   "metadata": {},
   "outputs": [],
   "source": [
    "Can you translate this file into English while preserving the Python formatting?\n",
    "\n",
    "def maximize(weights, x_0, delta):\n",
    "    nb_iter = 0\n",
    "    while True:\n",
    "        prev_x = x_0.copy()\n",
    "        for dim in range(0, len(weights)):\n",
    "            x_0[dim] += delta * weights[dim]\n",
    "        nb_iter += 1\n",
    "        if np.linalg.norm(prev_x - x_0) <  1e-7:\n",
    "            break\n",
    "    return x_0, nb_iter"
   ]
  }
 ],
 "metadata": {},
 "nbformat": 4,
 "nbformat_minor": 5
}
