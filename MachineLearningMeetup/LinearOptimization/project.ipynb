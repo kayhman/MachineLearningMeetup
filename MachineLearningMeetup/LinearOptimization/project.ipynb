{
 "cells": [
  {
   "cell_type": "code",
   "execution_count": null,
   "id": "842b204d",
   "metadata": {},
   "outputs": [],
   "source": [
    "import numpy as np\n",
    "\n",
    "# define the plane with a point and a normal vector\n",
    "A = np.array([3, 0, 0])\n",
    "n = np.array([1, 0, 0])\n",
    "\n",
    "# define two points, one above, the other below the plane\n",
    "Aa = np.array([4, 1, 1])\n",
    "Ab = np.array([2, 1, 0])\n",
    "\n",
    "def project(P, A, n):\n",
    "    P = P - ((P - A).dot(n)) * n\n",
    "    return P\n",
    "\n",
    "\n",
    "print('Aa projection is:', project(Aa, A, n))"
   ]
  },
  {
   "cell_type": "code",
   "execution_count": null,
   "id": "29342bfd",
   "metadata": {},
   "outputs": [],
   "source": [
    "print('Ab projection is:', project(Ab, A, n))"
   ]
  }
 ],
 "metadata": {},
 "nbformat": 4,
 "nbformat_minor": 5
}
