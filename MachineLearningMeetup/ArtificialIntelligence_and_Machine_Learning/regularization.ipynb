{
 "cells": [
  {
   "cell_type": "code",
   "execution_count": null,
   "id": "afeba815",
   "metadata": {},
   "outputs": [],
   "source": [
    "import numpy as np\n",
    "import matplotlib.pyplot as plt\n",
    "plt.style.use('grayscale')\n",
    "\n",
    "x = np.linspace(-20, 20, 200)\n",
    "# Absolute value of x is calculated\n",
    "y = np.abs(x)\n",
    "# An approximation of the absolute value of x is calculated here\n",
    "# with the log(cosh)\n",
    "y_logcosh = np.log(np.cosh(x))\n",
    "plt.plot(x, y, label=f'Absolute error')\n",
    "plt.plot(x, y_logcosh, label=f'log(cosh)')\n",
    "plt.legend(loc='upper left')\n",
    "plt.show()\n",
    "\n",
    "# At zero, the two functions\n",
    "# both have a value of 0\n",
    "print(np.abs(0.0))\n",
    "#> 0.0\n",
    "print(np.log(np.cosh(0)))\n",
    "#> 0.0\n",
    "\n",
    "# For a sufficiently positive value\n",
    "# the difference between the two is indeed log(2)\n",
    "print(np.log(np.cosh(10)) - 10 + np.log(2))\n",
    "#> 2.0611529150116326e-09\n",
    "\n",
    "# The same is true\n",
    "# for a sufficiently negative value\n",
    "print(np.log(np.cosh(-10)) - 10 + np.log(2))\n",
    "#> 2.0611529150116326e-09"
   ]
  }
 ],
 "metadata": {},
 "nbformat": 4,
 "nbformat_minor": 5
}
