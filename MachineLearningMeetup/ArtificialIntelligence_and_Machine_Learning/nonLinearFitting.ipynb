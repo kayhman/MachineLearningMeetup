{
 "cells": [
  {
   "cell_type": "code",
   "execution_count": null,
   "id": "e866e22b",
   "metadata": {},
   "outputs": [],
   "source": [
    "import numpy as np\n",
    "from numpy.linalg import inv\n",
    "import matplotlib.pyplot as plt\n",
    "\n",
    "# Calculation of parameters using least squares method.\n",
    "def fit(X, Y):\n",
    "    return inv(X.T.dot(X)).dot(X.T).dot(Y)\n",
    "\n",
    "# The radius of the wind turbine blades is 50\\:m.\n",
    "R = 50\n",
    "# The resulting area is $S = S \\pi r^2$.\n",
    "S = 2 * 3.1415 * R**2\n",
    "\n",
    "# The wind speed is taken between 0 and 30 $\\frac{m}{s}$.\n",
    "V = np.linspace(0, 30, 50)\n",
    "V_3 = 8.0 / 27.0 * S * np.array([[v**3] for v in V])\n",
    "# Air density\n",
    "rho = 1.292\n",
    "# Calculation of power according to the Betz's law, adding Gaussian noise.\n",
    "P = np.array([ rho * (V_3+np.random.normal())])\n",
    "\n",
    "# For the exercise, least squares method is used to determine $\\rho$.\n",
    "rho = fit(V_3, P)\n",
    "print(rho)\n",
    "# [[[1.29200001]]]\n",
    "\n",
    "plt.plot(V,\n",
    "         [p[0] for p in P[0]],\n",
    "         label='Betz\\'s Law')\n",
    "plt.legend()\n",
    "plt.show()"
   ]
  }
 ],
 "metadata": {},
 "nbformat": 4,
 "nbformat_minor": 5
}
