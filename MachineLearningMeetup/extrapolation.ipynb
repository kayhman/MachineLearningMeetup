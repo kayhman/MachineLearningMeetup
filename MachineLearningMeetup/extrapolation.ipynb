{
 "cells": [
  {
   "cell_type": "code",
   "execution_count": null,
   "id": "989c226f",
   "metadata": {},
   "outputs": [],
   "source": [
    "import matplotlib.pyplot as plt\n",
    "from xgboost import XGBRegressor\n",
    "import numpy as np\n",
    "import pandas as pd\n",
    "\n",
    "# Create an XGBoost model\n",
    "model = XGBRegressor(n_estimators=250)\n",
    "\n",
    "# Create time serie timestamp indices\n",
    "ts = np.linspace(0, 10, 100)\n",
    "X = pd.DataFrame({'ts': ts})\n",
    "\n",
    "# Generate signal to predict using a simple linear system\n",
    "y = ts * 6.66\n",
    "\n",
    "# Train XGBoost model\n",
    "model.fit(X, y)\n",
    "\n",
    "# Create prediction inputs. Start with timestamp indices\n",
    "# Shift the initial time range by 0.05 to force interpolation and augment if to force extrapolation\n",
    "x_preds = pd.DataFrame({'ts': list(ts + 0.05) + [11, 12, 13, 14, 15]})\n",
    "preds = model.predict(x_preds)\n",
    "# Plot results. \n",
    "# XGBoost cannot extrapolate, and keep using the same value for prediction in the future\n",
    "plt.plot(x_preds, x_preds['ts'] * 6.66, label='true values')\n",
    "plt.plot(x_preds, preds, label='XGBoost predicted values')\n",
    "plt.legend()\n",
    "plt.show()"
   ]
  }
 ],
 "metadata": {},
 "nbformat": 4,
 "nbformat_minor": 5
}
