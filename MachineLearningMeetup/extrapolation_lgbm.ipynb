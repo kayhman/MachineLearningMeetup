{
 "cells": [
  {
   "cell_type": "code",
   "execution_count": null,
   "id": "80c83d4f",
   "metadata": {},
   "outputs": [],
   "source": [
    "import matplotlib.pyplot as plt\n",
    "from lightgbm import LGBMRegressor\n",
    "import numpy as np\n",
    "import pandas as pd\n",
    "\n",
    "# Create an LGBM model\n",
    "params = {\n",
    "    'objective': 'regression',\n",
    "    'linear_tree': True,\n",
    "}\n",
    "model = LGBMRegressor(**params)\n",
    "\n",
    "# Create time serie timestamp indices\n",
    "ts = np.linspace(0, 10, 100)\n",
    "X = pd.DataFrame({'ts': ts})\n",
    "\n",
    "# Generate signal to predict using a simple linear system\n",
    "y = ts * 6.66\n",
    "\n",
    "# Train LGBM model\n",
    "model.fit(X, y)\n",
    "\n",
    "# Create prediction inputs. Start with timestamp indices\n",
    "# Shift the initial time range by 0.05 to force interpolation and augment if to force extrapolation\n",
    "x_preds = pd.DataFrame({'ts': list(ts + 0.05) + [11, 12, 13, 14, 15]})\n",
    "preds = model.predict(x_preds)\n",
    "# Plot results.\n",
    "# LGBM with linear tree can extrapolate\n",
    "plt.plot(x_preds, x_preds['ts'] * 6.66, label='true values')\n",
    "plt.plot(x_preds, preds, label='LGBM predicted values')\n",
    "plt.legend()\n",
    "plt.savefig('lgbm_linear.png')\n",
    "plt.show()"
   ]
  }
 ],
 "metadata": {},
 "nbformat": 4,
 "nbformat_minor": 5
}
